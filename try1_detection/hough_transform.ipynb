{
 "cells": [
  {
   "cell_type": "code",
   "execution_count": 19,
   "id": "7a57da44",
   "metadata": {},
   "outputs": [],
   "source": [
    "import sys\n",
    "import math\n",
    "import cv2 as cv\n",
    "import numpy as np\n",
    "def main(argv):\n",
    "    \n",
    "    default_file = 'loop2.jpg'\n",
    "    # default_file = 'inf.jpg'\n",
    "    # default_file = 'image.jpg'\n",
    "    src= cv.imread(default_file)\n",
    "    \n",
    "    \n",
    "    dst = cv.Canny(src, 50, 200, None, 3)\n",
    "    \n",
    "    # Copy edges to the images that will display the results in BGR\n",
    "    cdst = cv.cvtColor(dst, cv.COLOR_GRAY2BGR)\n",
    "    cdstP = np.copy(cdst)\n",
    "    \n",
    "    lines = cv.HoughLines(dst, 1, np.pi / 180, 150, None, 0, 0)\n",
    "    \n",
    "    if lines is not None:\n",
    "        for i in range(0, len(lines)):\n",
    "            rho = lines[i][0][0]\n",
    "            theta = lines[i][0][1]\n",
    "            a = math.cos(theta)\n",
    "            b = math.sin(theta)\n",
    "            x0 = a * rho\n",
    "            y0 = b * rho\n",
    "            pt1 = (int(x0 + 1000*(-b)), int(y0 + 1000*(a)))\n",
    "            pt2 = (int(x0 - 1000*(-b)), int(y0 - 1000*(a)))\n",
    "            cv.line(cdst, pt1, pt2, (0,0,255), 3, cv.LINE_AA)\n",
    "    \n",
    "    \n",
    "    linesP = cv.HoughLinesP(dst, 1, np.pi / 180, 50, None, 50, 10)\n",
    "    \n",
    "    if linesP is not None:\n",
    "        for i in range(0, len(linesP)):\n",
    "            l = linesP[i][0]\n",
    "            cv.line(cdstP, (l[0], l[1]), (l[2], l[3]), (0,0,255), 3, cv.LINE_AA)\n",
    "    \n",
    "    cv.imshow(\"Source\", src)\n",
    "    cv.imshow(\"Detected Lines (in red) - Standard Hough Line Transform\", cdst)\n",
    "    cv.imshow(\"Detected Lines (in red) - Probabilistic Line Transform\", cdstP)\n",
    "    \n",
    "    cv.waitKey()\n",
    "    return 0\n",
    "    \n",
    "if __name__ == \"__main__\":\n",
    "    main(sys.argv[1:])"
   ]
  },
  {
   "cell_type": "code",
   "execution_count": null,
   "id": "77e52808",
   "metadata": {},
   "outputs": [],
   "source": []
  }
 ],
 "metadata": {
  "kernelspec": {
   "display_name": "Python 3 (ipykernel)",
   "language": "python",
   "name": "python3"
  },
  "language_info": {
   "codemirror_mode": {
    "name": "ipython",
    "version": 3
   },
   "file_extension": ".py",
   "mimetype": "text/x-python",
   "name": "python",
   "nbconvert_exporter": "python",
   "pygments_lexer": "ipython3",
   "version": "3.9.12"
  }
 },
 "nbformat": 4,
 "nbformat_minor": 5
}
